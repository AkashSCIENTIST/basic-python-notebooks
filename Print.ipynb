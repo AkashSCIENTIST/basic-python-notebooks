{
 "cells": [
  {
   "cell_type": "markdown",
   "metadata": {},
   "source": [
    "# Python Crash Course Assignment"
   ]
  },
  {
   "cell_type": "markdown",
   "metadata": {},
   "source": [
    "The best way we learn anything is by practice and exercise questions. We have started this section for those (beginner to intermediate) who may or maynot familiar with Python."
   ]
  },
  {
   "cell_type": "markdown",
   "metadata": {},
   "source": [
    "### Print"
   ]
  },
  {
   "cell_type": "markdown",
   "metadata": {},
   "source": [
    "**1. Write a Python program to print the following string in a specific format (see the output)**\n",
    "\n",
    "Sample String : \"Johny, Johny!\n",
    "Yes, Papa\n",
    "Eating sugar?\n",
    "No, Papa\n",
    "Telling lies?\n",
    "No, Papa\n",
    "Open your mouth!\n",
    "Ha! Ha! Ha!\"\n",
    " \n",
    "\n",
    "**Output :**\n",
    "\n",
    "Johny, Johny!\n",
    "\n",
    "    Yes, Papa\n",
    "\n",
    "Eating sugar?\n",
    "\n",
    "    No, Papa\n",
    "\n",
    "Telling lies?\n",
    "\n",
    "    No, Papa\n",
    "\n",
    "Open your mouth!\n",
    "\n",
    "        Ha! Ha! Ha!"
   ]
  },
  {
   "cell_type": "code",
   "execution_count": 1,
   "metadata": {},
   "outputs": [
    {
     "name": "stdout",
     "output_type": "stream",
     "text": [
      "Johny, Johny!\n",
      "\t Yes, Papa\n",
      " Eating sugar?\n",
      "\t No, Papa \n",
      "Telling lies?\n",
      "\t No, Papa \n",
      "Open your mouth!\n",
      "\t Ha! Ha! Ha!\n"
     ]
    }
   ],
   "source": [
    "string = \"Johny, Johny!\\n\\t Yes, Papa\\n Eating sugar?\\n\\t No, Papa \\nTelling lies?\\n\\t No, Papa \\nOpen your mouth!\\n\\t Ha! Ha! Ha!\"\n",
    "print(string)"
   ]
  },
  {
   "cell_type": "markdown",
   "metadata": {},
   "source": [
    "**2. Create a variable r for radius and use it to compute Area of Circle.**\n",
    "\n",
    "**Sample Output :**\n",
    "\n",
    "The area of the circle with radius 10.0 is: 314.1592653589793\n",
    "\n",
    "* Hint: import pi from math library \n",
    "\n",
    "**\"from math import pi\"**\n"
   ]
  },
  {
   "cell_type": "code",
   "execution_count": 7,
   "metadata": {},
   "outputs": [
    {
     "name": "stdout",
     "output_type": "stream",
     "text": [
      "The area of the circle with radius 10.0 is: 314.1592653589793\n"
     ]
    }
   ],
   "source": [
    "from math import pi\n",
    "radius = 10.0\n",
    "area = pi * radius**2\n",
    "print(f\"The area of the circle with radius {radius} is: {area}\"\")"
   ]
  },
  {
   "cell_type": "markdown",
   "metadata": {},
   "source": [
    "**3. Write a Python program which accepts the user's first and last name and print them in reverse order with a space between them.**\n",
    "\n",
    "**Use input()** \n",
    "\"input()\" ask the user for a string of data and simply returns the string, the string data ended with a newline. It can also take an argument, which is displayed as a prompt before the user enters the data.\n",
    "\n",
    "* Hint: To assign the user's name to a variable \"y\" you can use following command :\n",
    "\n",
    "**y = input('Input your name: ')**\n",
    "\n",
    "Once you assign, just press \"Enter\" command.\n",
    "\n",
    "**Sample Output**\n",
    "Hello, Labs Euclid"
   ]
  },
  {
   "cell_type": "code",
   "execution_count": 5,
   "metadata": {
    "scrolled": true
   },
   "outputs": [
    {
     "name": "stdout",
     "output_type": "stream",
     "text": [
      "Write your First Name : akash\n"
     ]
    }
   ],
   "source": [
    "fname = input(\"Write your First Name : \")"
   ]
  },
  {
   "cell_type": "code",
   "execution_count": 7,
   "metadata": {},
   "outputs": [
    {
     "name": "stdout",
     "output_type": "stream",
     "text": [
      "Write your Last Name : s p\n"
     ]
    }
   ],
   "source": [
    "lname = input(\"Write your Last Name : \")"
   ]
  },
  {
   "cell_type": "code",
   "execution_count": 8,
   "metadata": {},
   "outputs": [
    {
     "name": "stdout",
     "output_type": "stream",
     "text": [
      "Hello,  akash s p\n"
     ]
    }
   ],
   "source": [
    "print(\"Hello, \",fname + \" \"+ lname)"
   ]
  },
  {
   "cell_type": "markdown",
   "metadata": {},
   "source": [
    "**4. Write a Python program to accept a filename and print the extension of that.**\n",
    "\n",
    "* Sample Filename: \"printfile.txt\"\n",
    "\n",
    "**Sample Output:** \"The extension of the file is :  txt\"\n",
    "\n",
    "* Hint: use reverse()\n"
   ]
  },
  {
   "cell_type": "code",
   "execution_count": 4,
   "metadata": {},
   "outputs": [
    {
     "name": "stdout",
     "output_type": "stream",
     "text": [
      "The extension of the file is :  txt\n"
     ]
    }
   ],
   "source": [
    "filename = \"printfile.txt\"\n",
    "if filename.endswith(\".txt\"):\n",
    "    print(\"The extension of the file is :  txt\")"
   ]
  },
  {
   "cell_type": "markdown",
   "metadata": {},
   "source": [
    "**5. Write a Python program to print the absolute value of object.**\n",
    "\n",
    "* Sample value: -3\n",
    "\n",
    "**Sample Output:** \"Absolute value of -3 is :  3\"\n",
    "\n",
    "* Hint: use abs()\n"
   ]
  },
  {
   "cell_type": "code",
   "execution_count": 3,
   "metadata": {},
   "outputs": [
    {
     "name": "stdout",
     "output_type": "stream",
     "text": [
      "Absolute value of -3 is : 3\n"
     ]
    }
   ],
   "source": [
    "n  = -3\n",
    "n1 = abs(n)\n",
    "print(f\"Absolute value of {n} is : {n1}\")"
   ]
  }
 ],
 "metadata": {
  "kernelspec": {
   "display_name": "Python 3",
   "language": "python",
   "name": "python3"
  },
  "language_info": {
   "codemirror_mode": {
    "name": "ipython",
    "version": 3
   },
   "file_extension": ".py",
   "mimetype": "text/x-python",
   "name": "python",
   "nbconvert_exporter": "python",
   "pygments_lexer": "ipython3",
   "version": "3.8.8"
  }
 },
 "nbformat": 4,
 "nbformat_minor": 2
}
