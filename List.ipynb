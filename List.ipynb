{
 "cells": [
  {
   "cell_type": "markdown",
   "metadata": {},
   "source": [
    "# Python Crash Course Assignment: List"
   ]
  },
  {
   "cell_type": "markdown",
   "metadata": {},
   "source": [
    "The best way we learn anything is by practice and exercise questions. We have started this section for those (beginner to intermediate) who may or maynot familiar with Python.\n",
    "\n",
    "There are multiple ways to solve any given problem. Best way to learn is to come up with every possible way. "
   ]
  },
  {
   "cell_type": "markdown",
   "metadata": {},
   "source": [
    "### List\n",
    "\n",
    "A list is a container which holds comma-separated values (items or elements) between square brackets where items or elements need not all have the same type.\n",
    "\n",
    "**Examples:**\n",
    "* integers = [10, 20, 30, 40, 50]\n",
    "* names = [\"Sara\", \"David\", \"Warner\", \"Sandy\"]\n",
    "* student_info = [(\"Sara\", 1, \"Chemistry\"),(\"David\",\"2\",\"Physics\")] #List of tuples\n"
   ]
  },
  {
   "cell_type": "markdown",
   "metadata": {},
   "source": [
    "**1. Write a Python function to multiply all the number in a given list**\n",
    "\n",
    "**Sample list : [1,2,3,4]**\n",
    "\n",
    "**Output : 24**"
   ]
  },
  {
   "cell_type": "code",
   "execution_count": 2,
   "metadata": {},
   "outputs": [
    {
     "name": "stdout",
     "output_type": "stream",
     "text": [
      "24\n"
     ]
    }
   ],
   "source": [
    "n = 1\n",
    "l = [1,2,3,4]\n",
    "\n",
    "for i in l:\n",
    "    n *= i\n",
    "    \n",
    "print(n)"
   ]
  },
  {
   "cell_type": "markdown",
   "metadata": {},
   "source": [
    "**2. Write a Python function to reverse a string.**\n",
    "\n",
    "**Sample string: \"abcd\"**\n",
    "\n",
    "**Output : \"dcba\"**"
   ]
  },
  {
   "cell_type": "code",
   "execution_count": 3,
   "metadata": {},
   "outputs": [
    {
     "name": "stdout",
     "output_type": "stream",
     "text": [
      "dcba\n"
     ]
    }
   ],
   "source": [
    "s = \"abcd\"\n",
    "print(s[::-1])"
   ]
  },
  {
   "cell_type": "markdown",
   "metadata": {},
   "source": [
    "**3. Write a Python function that takes a list and returns a new list with unique elements of the first list.**\n",
    "\n",
    "**Sample list: ['a','b','c','e','c','z','a','j','b','d','z']**\n",
    "\n",
    "**Output list: ['a', 'b', 'c', 'e', 'z', 'j', 'd']**"
   ]
  },
  {
   "cell_type": "code",
   "execution_count": 4,
   "metadata": {
    "scrolled": true
   },
   "outputs": [
    {
     "name": "stdout",
     "output_type": "stream",
     "text": [
      "['a', 'b', 'c', 'e', 'z', 'j', 'd']\n"
     ]
    }
   ],
   "source": [
    "l2 = []\n",
    "l1 = ['a','b','c','e','c','z','a','j','b','d','z']\n",
    "\n",
    "for i in l1:\n",
    "    if not i in l2:\n",
    "        l2.append(i)\n",
    "        \n",
    "print(l2)"
   ]
  },
  {
   "cell_type": "markdown",
   "metadata": {},
   "source": [
    "**4. Write a Python program to remove duplicates from a list. Also print the unique list values**\n",
    "\n",
    "**Sample List: [10,20,30,20,10,50,60,40,80,50,40]**\n",
    "\n",
    "**Sample Output:**\n",
    "\n",
    "* Duplicate items: {40, 10, 80, 50, 20, 60, 30}   \n",
    "* Unique itmes:[10, 20, 30, 50, 60, 40, 80]** \n"
   ]
  },
  {
   "cell_type": "code",
   "execution_count": 19,
   "metadata": {},
   "outputs": [
    {
     "name": "stdout",
     "output_type": "stream",
     "text": [
      "{40, 10, 80, 50, 20, 60, 30}\n",
      "[10, 20, 30, 50, 60, 40, 80]\n"
     ]
    }
   ],
   "source": [
    "l = [10,20,30,20,10,50,60,40,80,50,40]\n",
    "m = []\n",
    "n = set()\n",
    "\n",
    "for i in l:\n",
    "    if i not in m:\n",
    "        m.append(i)\n",
    "\n",
    "for i in l:\n",
    "    n.add(i)\n",
    "        \n",
    "print(n)\n",
    "print(m)"
   ]
  },
  {
   "cell_type": "markdown",
   "metadata": {},
   "source": [
    "**5. Write a Python function that takes two lists and returns True if they have at least one common member.**\n",
    "\n",
    "**Sample value:**\n",
    "* A = [1,2,3,4,5]\n",
    "* B = [5,6,7,8,9]\n",
    "\n",
    "**Sample Output:True** "
   ]
  },
  {
   "cell_type": "code",
   "execution_count": 6,
   "metadata": {},
   "outputs": [
    {
     "name": "stdout",
     "output_type": "stream",
     "text": [
      "True\n"
     ]
    }
   ],
   "source": [
    "A = [1,2,3,4,5]\n",
    "B = [5,6,7,8,9]\n",
    "\n",
    "for i in A:\n",
    "    if i in B:\n",
    "        print(True)\n",
    "        break"
   ]
  },
  {
   "cell_type": "markdown",
   "metadata": {},
   "source": [
    "**6. Write a Python program to replace the last element in a list with another list..**\n",
    "\n",
    "**Sample value:**\n",
    "* A = [1, 3, 5, 7, 9, 10]\n",
    "* B = [2, 4, 6, 8]\n",
    "\n",
    "**Sample Output:[1, 3, 5, 7, 9, 2, 4, 6, 8]** \n"
   ]
  },
  {
   "cell_type": "code",
   "execution_count": 5,
   "metadata": {},
   "outputs": [
    {
     "name": "stdout",
     "output_type": "stream",
     "text": [
      "[1, 3, 5, 7, 9, 10, 2, 4, 6, 8]\n"
     ]
    }
   ],
   "source": [
    "A = [1, 3, 5, 7, 9, 10]\n",
    "B = [2, 4, 6, 8]\n",
    "c = []\n",
    "\n",
    "for i in A:\n",
    "    c.append(i)\n",
    "for i in B:\n",
    "    c.append(i)\n",
    "    \n",
    "print(c)"
   ]
  }
 ],
 "metadata": {
  "kernelspec": {
   "display_name": "Python 3",
   "language": "python",
   "name": "python3"
  },
  "language_info": {
   "codemirror_mode": {
    "name": "ipython",
    "version": 3
   },
   "file_extension": ".py",
   "mimetype": "text/x-python",
   "name": "python",
   "nbconvert_exporter": "python",
   "pygments_lexer": "ipython3",
   "version": "3.8.8"
  }
 },
 "nbformat": 4,
 "nbformat_minor": 2
}
