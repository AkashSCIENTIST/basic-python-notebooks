{
 "cells": [
  {
   "cell_type": "markdown",
   "metadata": {},
   "source": [
    "# Python Crash Course Assignment: Decision making and Looping "
   ]
  },
  {
   "cell_type": "markdown",
   "metadata": {},
   "source": [
    "The best way we learn anything is by practice and exercise questions. We have started this section for those (beginner to intermediate) who may or maynot familiar with Python.\n",
    "\n",
    "There are multiple ways to solve any given problem. Best way to learn is to come up with every possible way. "
   ]
  },
  {
   "cell_type": "markdown",
   "metadata": {},
   "source": [
    "### if else elif\n",
    "\n",
    "Decision making is anticipation of conditions occurring while execution of the program and specifying actions taken according to the conditions.\n",
    "\n",
    "Decision structures evaluate multiple expressions which produce TRUE or FALSE as outcome. You need to determine which action to take and which statements to execute if outcome is TRUE or FALSE otherwise."
   ]
  },
  {
   "cell_type": "markdown",
   "metadata": {},
   "source": [
    "**1. Write a Python program to check if the extension is apk.**\n",
    "\n",
    "**Sample input :file =  \"Android.apk\"**\n",
    "\n",
    "**Output : Android.apk is an android file**"
   ]
  },
  {
   "cell_type": "code",
   "execution_count": 1,
   "metadata": {},
   "outputs": [
    {
     "name": "stdout",
     "output_type": "stream",
     "text": [
      "Android.apk\n",
      "Android.apk is an android file\n"
     ]
    }
   ],
   "source": [
    "s = input()\n",
    "if s.endswith(\".apk\"):\n",
    "    print(f\"{s} is an android file\")"
   ]
  },
  {
   "cell_type": "markdown",
   "metadata": {},
   "source": [
    "**2. Write a Python program to convert temperatures to and from celsius, fahrenheit.**\n",
    "\n",
    "* formula: c/5 = f-32/9 [ where c = temperature in celsius and f = temperature in fahrenheit]\n",
    "\n",
    "**Follow the following steps:**\n",
    "* use input() to get the user input and create a temp variable for it.\n",
    "* eg 45F : Create seperate variable for 45 and F\n",
    "* Check if its F or C\n",
    "* if C then apply formula for Celsius\n",
    "* if F then apply formula for Fahrenheit\n",
    "* if other than C and F print defualt failure message and quit\n",
    "* print result\n",
    "\n",
    "**Sample Input: 34F** \n",
    "\n",
    "**Output :** \n",
    "* Input the  temperature you like to convert? (e.g., 45F, 102C etc.) : 34F\n",
    "* The temperature in Celsius is 1 degrees.**"
   ]
  },
  {
   "cell_type": "code",
   "execution_count": 5,
   "metadata": {},
   "outputs": [
    {
     "name": "stdout",
     "output_type": "stream",
     "text": [
      "100C\n",
      "The temperature in Fahrenheit is 212.0 degrees.\n"
     ]
    }
   ],
   "source": [
    "s = input()\n",
    "t = s[:-1]\n",
    "temp  = int(t)\n",
    "t = 0\n",
    "if s[-1] == \"C\":\n",
    "    t = (9*temp/5) + 32\n",
    "    print(f\"The temperature in Fahrenheit is {t} degrees.\")\n",
    "else:\n",
    "    t = (5 * (temp-32)/9)\n",
    "    print(f\"The temperature in Celcius is {t} degrees.\")"
   ]
  },
  {
   "cell_type": "markdown",
   "metadata": {},
   "source": [
    "### For Loop"
   ]
  },
  {
   "attachments": {
    "Screenshot%202021-01-28%20at%208.33.50%20PM.png": {
     "image/png": "[encoded data removed]"
    }
   },
   "cell_type": "markdown",
   "metadata": {},
   "source": [
    "**3. Write a Python program to construct the following pattern, using a nested for loop.**\n",
    "\n",
    "![Screenshot%202021-01-28%20at%208.33.50%20PM.png](attachment:Screenshot%202021-01-28%20at%208.33.50%20PM.png)"
   ]
  },
  {
   "cell_type": "code",
   "execution_count": 10,
   "metadata": {
    "scrolled": true
   },
   "outputs": [
    {
     "name": "stdout",
     "output_type": "stream",
     "text": [
      "\n",
      "* \n",
      "* * \n",
      "* * * \n",
      "* * * * \n",
      "* * * \n",
      "* * \n",
      "* \n"
     ]
    }
   ],
   "source": [
    "n = 4\n",
    "\n",
    "for i in range(n):\n",
    "    print(\"* \"*i)\n",
    "for i in range(n,0,-1):\n",
    "    print(\"* \"*i)"
   ]
  },
  {
   "cell_type": "markdown",
   "metadata": {},
   "source": [
    "**4. Write a Python program reverse the given word.**\n",
    "\n",
    "**Sample word: \"Euclid Labs\"**\n",
    "\n",
    "**Sample Output:\"sbaL dilcuE\"**\n"
   ]
  },
  {
   "cell_type": "code",
   "execution_count": 11,
   "metadata": {},
   "outputs": [
    {
     "name": "stdout",
     "output_type": "stream",
     "text": [
      "sbaL dilcuE\n"
     ]
    }
   ],
   "source": [
    "s = \"Euclid Labs\"\n",
    "print(s[::-1])"
   ]
  },
  {
   "cell_type": "markdown",
   "metadata": {},
   "source": [
    "**5. Write a Python program that prints all the numbers from 0 to 6 except 3 and 6.**\n",
    "\n",
    "\n",
    "**Sample tuple:0,1,2,3,4,5,6**\n",
    "\n",
    "**Sample Output: 0,1,2,4,5**\n",
    "* Hint : Use 'continue' statement."
   ]
  },
  {
   "cell_type": "code",
   "execution_count": 12,
   "metadata": {},
   "outputs": [
    {
     "name": "stdout",
     "output_type": "stream",
     "text": [
      "0 1 2 4 5 "
     ]
    }
   ],
   "source": [
    "for i in range(7):\n",
    "    if i == 3 or i == 6:\n",
    "        continue\n",
    "    else:\n",
    "        print(i,end = \" \")"
   ]
  },
  {
   "cell_type": "markdown",
   "metadata": {},
   "source": [
    "**6. Write a Python program for a given string of number and letters and calculate the number of digits and letters.**\n",
    "\n",
    "**Sample string: AKDLW891**\n",
    "\n",
    "**Sample Output:**\n",
    "* Letters 5\n",
    "* Digits 3"
   ]
  },
  {
   "cell_type": "code",
   "execution_count": 14,
   "metadata": {},
   "outputs": [
    {
     "name": "stdout",
     "output_type": "stream",
     "text": [
      "Letters 5\n",
      "Digits 3\n"
     ]
    }
   ],
   "source": [
    "c, int_ = 0, 0\n",
    "s = \"AKDLW891\"\n",
    "for i in s:\n",
    "    if i in \"0123456789\":\n",
    "        int_ += 1\n",
    "    else:\n",
    "        c+=1\n",
    "        \n",
    "print(f\"Letters {c}\\nDigits {int_}\")"
   ]
  },
  {
   "cell_type": "markdown",
   "metadata": {},
   "source": [
    "### While Loop"
   ]
  },
  {
   "cell_type": "markdown",
   "metadata": {},
   "source": [
    "**7. Write a Python program to check the validity of a password (input from users).**\n",
    "\n",
    "**Validation**\n",
    "\n",
    "* At least 1 letter between [a-z] and 1 letter between [A-Z].\n",
    "* At least 1 number between [0-9].\n",
    "* At least 1 character from [&%@] .\n",
    "* Minimum length 6 characters.\n",
    "* Maximum length 16 characters.\n",
    "\n",
    "**Sample Output:**\n",
    "* Valid Password or\n",
    "* Invalid Password\n",
    "\n",
    "* Hint: import re: Regulare expression module."
   ]
  },
  {
   "cell_type": "code",
   "execution_count": 20,
   "metadata": {},
   "outputs": [
    {
     "name": "stdout",
     "output_type": "stream",
     "text": [
      "Password : ABcd0987@\n",
      "A Valid Password\n"
     ]
    }
   ],
   "source": [
    "password = input(\"Password : \")\n",
    "c, ii, s = 0,0,0\n",
    "\n",
    "if not (len(password) >= 6 and len(password) <= 16):\n",
    "    print(\"Not a valid Password\")\n",
    "else:\n",
    "    for i in password:\n",
    "        if i in \"&%@\":\n",
    "            s += 1\n",
    "        elif i in \"0987654321\":\n",
    "            ii += 1\n",
    "        elif i in \"abcdefghijklmnopqrstuvwxyzABCDEFGHIJKLMNOPQRSTUVWXYZ\":\n",
    "            c += 1\n",
    "        else:\n",
    "            pass\n",
    "    if ((c > 0) and (ii > 0) and (s > 0)):\n",
    "        print(\"A Valid Password\")\n",
    "    else:\n",
    "        print(\"Not a valid password\")\n",
    "        "
   ]
  },
  {
   "cell_type": "code",
   "execution_count": null,
   "metadata": {},
   "outputs": [],
   "source": []
  }
 ],
 "metadata": {
  "kernelspec": {
   "display_name": "Python 3",
   "language": "python",
   "name": "python3"
  },
  "language_info": {
   "codemirror_mode": {
    "name": "ipython",
    "version": 3
   },
   "file_extension": ".py",
   "mimetype": "text/x-python",
   "name": "python",
   "nbconvert_exporter": "python",
   "pygments_lexer": "ipython3",
   "version": "3.8.8"
  }
 },
 "nbformat": 4,
 "nbformat_minor": 2
}
