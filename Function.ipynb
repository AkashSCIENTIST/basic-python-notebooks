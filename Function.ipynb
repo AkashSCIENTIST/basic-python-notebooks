{
 "cells": [
  {
   "cell_type": "markdown",
   "metadata": {},
   "source": [
    "# Python Crash Course Assignment: Functions, Lambda, sort(), filter() map()"
   ]
  },
  {
   "cell_type": "markdown",
   "metadata": {},
   "source": [
    "The best way we learn anything is by practice and exercise questions. We have started this section for those (beginner to intermediate) who may or maynot familiar with Python.\n",
    "\n",
    "There are multiple ways to solve any given problem. Best way to learn is to come up with every possible way. "
   ]
  },
  {
   "cell_type": "markdown",
   "metadata": {},
   "source": [
    "### Functions\n",
    "\n",
    "A function performs a particular task takes one or more inputs and gives a set of outputs.\n",
    "**Syntax: def function_name():**\n",
    "\n",
    "* def keyword followed by function name with parenthesis is the way to define a function in python.\n",
    "* Syntax: def function_name(parameters) : pass the parameters within the parenthesis.\n",
    "* The function can return an expression using the *return* keyword.\n",
    "* Indentation plays important role in defining the body of the function."
   ]
  },
  {
   "cell_type": "markdown",
   "metadata": {},
   "source": [
    "**1. Write a Python function to sum all the number in a given list**\n",
    "\n",
    "**Sample list : [1,2,3,4]**\n",
    "\n",
    "**Output : 10**"
   ]
  },
  {
   "cell_type": "code",
   "execution_count": 3,
   "metadata": {},
   "outputs": [
    {
     "name": "stdout",
     "output_type": "stream",
     "text": [
      "10\n"
     ]
    }
   ],
   "source": [
    "a = [1,2,3,4]\n",
    "s = 0\n",
    "for i in a:\n",
    "    s += i\n",
    "print(s)"
   ]
  },
  {
   "cell_type": "markdown",
   "metadata": {},
   "source": [
    "**2. Write a Python function to reverse a string.**\n",
    "\n",
    "**Sample string: \"abcd\"**\n",
    "\n",
    "**Output : \"dcba\"**"
   ]
  },
  {
   "cell_type": "code",
   "execution_count": 6,
   "metadata": {},
   "outputs": [
    {
     "name": "stdout",
     "output_type": "stream",
     "text": [
      "dcba\n"
     ]
    }
   ],
   "source": [
    "s = \"abcd\"\n",
    "s2 = \"\"\n",
    "for i in range(len(s)-1,-1,-1):\n",
    "    s2 += s[i]\n",
    "print(s2)"
   ]
  },
  {
   "cell_type": "code",
   "execution_count": 7,
   "metadata": {},
   "outputs": [
    {
     "name": "stdout",
     "output_type": "stream",
     "text": [
      "dcba\n"
     ]
    }
   ],
   "source": [
    "s = \"abcd\"\n",
    "print(s[::-1])"
   ]
  },
  {
   "cell_type": "markdown",
   "metadata": {},
   "source": [
    "**3. Write a Python function that takes a list and returns a new list with unique elements of the first list.**\n",
    "\n",
    "**Sample list: ['a','b','c','e','c','z','a','j','b','d','z']**\n",
    "\n",
    "**Output list: ['a', 'b', 'c', 'e', 'z', 'j', 'd']**"
   ]
  },
  {
   "cell_type": "code",
   "execution_count": 9,
   "metadata": {
    "scrolled": true
   },
   "outputs": [
    {
     "name": "stdout",
     "output_type": "stream",
     "text": [
      "['a', 'b', 'c', 'e', 'z', 'j', 'd']\n"
     ]
    }
   ],
   "source": [
    "l = ['a','b','c','e','c','z','a','j','b','d','z']\n",
    "l2 = []\n",
    "for i in l:\n",
    "    if i not in l2:\n",
    "        l2.append(i)\n",
    "print(l2)"
   ]
  },
  {
   "cell_type": "markdown",
   "metadata": {},
   "source": [
    "**4. Write a Python func to find the maximum number in a list.**\n",
    "\n",
    "**Sample List: [2,9,-10,5]**\n",
    "\n",
    "**Sample Output:9** \n"
   ]
  },
  {
   "cell_type": "code",
   "execution_count": 11,
   "metadata": {},
   "outputs": [
    {
     "name": "stdout",
     "output_type": "stream",
     "text": [
      "9\n"
     ]
    }
   ],
   "source": [
    "l = [2,9,-10,5]\n",
    "n = max(l)\n",
    "print(n)"
   ]
  },
  {
   "cell_type": "markdown",
   "metadata": {},
   "source": [
    "### Lambda\n",
    "\n",
    "lambda functions also known as anonymous function since it does not have a name.\n",
    "* A lambda function can have any number of arguments, but with a single expression.\n",
    "* An expression is a code executed by the lambda function, may or may not have a return value.\n",
    "* We can lambda expression when we required function objects.\n",
    "* syntax: lambda arguments: expression\n",
    "* Lambda functions used to return function objects.\n",
    "* Syntactically lambda functions are restricted to a single expression.\n",
    "* It can be used with functions like map(), filter()"
   ]
  },
  {
   "cell_type": "markdown",
   "metadata": {},
   "source": [
    "**5. Creare a Lambda function to triple the value**\n",
    "\n",
    "**Sample value:3**\n",
    "\n",
    "**Sample Output:9** "
   ]
  },
  {
   "cell_type": "code",
   "execution_count": 12,
   "metadata": {},
   "outputs": [
    {
     "name": "stdout",
     "output_type": "stream",
     "text": [
      "9\n"
     ]
    }
   ],
   "source": [
    "fun = lambda x : x * 3\n",
    "print(fun(3))"
   ]
  },
  {
   "cell_type": "markdown",
   "metadata": {},
   "source": [
    "**6. Creare a Lambda function to determine if its positive or negative**\n",
    "\n",
    "**Syntex:** lambda Argument : output1 if (condition1) else output2\n",
    "\n",
    "**Sample value:-3**\n",
    "\n",
    "**Sample Output:Is it positive:  False** \n",
    "\n",
    "**Sample value:9**\n",
    "\n",
    "**Sample Output:Is it positive:  True**\n",
    "\n",
    "* Hint: Its a problem of lambda function with if else"
   ]
  },
  {
   "cell_type": "code",
   "execution_count": 13,
   "metadata": {},
   "outputs": [
    {
     "name": "stdout",
     "output_type": "stream",
     "text": [
      "Is it positive :  False\n",
      "Is it positive :  True\n"
     ]
    }
   ],
   "source": [
    "fun = lambda x : True if (x >= 0) else False\n",
    "print(\"Is it positive : \",fun(-3))\n",
    "print(\"Is it positive : \",fun(9))"
   ]
  },
  {
   "cell_type": "markdown",
   "metadata": {},
   "source": [
    "### Lambda function inside the normal function \n",
    "\n",
    "The lambda function gets more helpful when used inside a function."
   ]
  },
  {
   "cell_type": "markdown",
   "metadata": {},
   "source": [
    "**7. Write a Python program to create a function that takes one argument as power, and that power will be multiplied with an unknown given number.**\n",
    "\n",
    "**Sample power:3 and number = 2**\n",
    "\n",
    "**Sample Output: \"2 power of 3 is 8\"** \n",
    "\n",
    "* Hint: 2 x 2 x 2 = 8"
   ]
  },
  {
   "cell_type": "code",
   "execution_count": 15,
   "metadata": {},
   "outputs": [
    {
     "name": "stdout",
     "output_type": "stream",
     "text": [
      "2 power of 3 is  8\n"
     ]
    }
   ],
   "source": [
    "def power(a,b):\n",
    "    fun = lambda x,y : x ** y\n",
    "    print(f\"{a} power of {b} is \",fun(a,b))\n",
    "    \n",
    "power(2,3)"
   ]
  },
  {
   "cell_type": "markdown",
   "metadata": {},
   "source": [
    "### Sort function()\n",
    "sort() is used to sort the values either in ascending or decending order (add reverse = True) based of key."
   ]
  },
  {
   "cell_type": "markdown",
   "metadata": {},
   "source": [
    "**8. Creare a Lambda function to sort a list of tuples based on marks**\n",
    "\n",
    "**Sample value:exam_grades = [('English', 90), ('Science', 80), ('Maths', 97), ('Social sciences', 82),('Vocational', 90)]**\n",
    "\n",
    "**Sample Output:[('Science', 80),('Social sciences', 82),('English', 90),('Vocational', 90),('Maths', 97)]** "
   ]
  },
  {
   "cell_type": "code",
   "execution_count": 34,
   "metadata": {},
   "outputs": [
    {
     "name": "stdout",
     "output_type": "stream",
     "text": [
      "[('Science', 80), ('Social sciences', 82), ('English', 90), ('Vocational', 90), ('Maths', 97)]\n"
     ]
    }
   ],
   "source": [
    "exam_grades = [('English', 90), ('Science', 80), ('Maths', 97), ('Social sciences', 82),('Vocational', 90)]\n",
    "exam_grades.sort(key=lambda x : x[1])\n",
    "print(exam_grades)"
   ]
  },
  {
   "cell_type": "markdown",
   "metadata": {},
   "source": [
    "### filter()\n",
    " \n",
    "filter() is used to filter the list values based on the given condition\n",
    "\n",
    "**9. Create a Lambda function to get list of all subjects with grades above 85.**\n",
    "\n",
    "**Sample value:exam_grades = [('English', 90), ('Science', 80), ('Maths', 97), ('Social sciences', 82),('Vocational', 90)]**\n",
    "\n",
    "**Sample Output:[('English', 90), ('Vocational', 90), ('Maths', 97)]** "
   ]
  },
  {
   "cell_type": "code",
   "execution_count": 24,
   "metadata": {},
   "outputs": [
    {
     "name": "stdout",
     "output_type": "stream",
     "text": [
      "[('English', 90), ('Maths', 97), ('Vocational', 90)]\n"
     ]
    }
   ],
   "source": [
    "def fun(l):\n",
    "    if l[1] > 85:\n",
    "        return True\n",
    "    else:\n",
    "        return False\n",
    "    \n",
    "    \n",
    "grade =  [('English', 90), ('Science', 80), ('Maths', 97), ('Social sciences', 82),('Vocational', 90)]\n",
    "out = list(filter(fun, grade))\n",
    "print(out)"
   ]
  },
  {
   "cell_type": "markdown",
   "metadata": {},
   "source": [
    "### map()\n",
    "in map either we use assignment or conditional operator,\n",
    "\n",
    "**9. Create a Lambda function to map subjects with grades above 85.**\n",
    "\n",
    "**Sample value:exam_grades = [('English', 90), ('Science', 80), ('Maths', 97), ('Social sciences', 82),('Vocational', 90)]**\n",
    "\n",
    "**Sample Output:[False, False, True, True, True]** "
   ]
  },
  {
   "cell_type": "code",
   "execution_count": 20,
   "metadata": {},
   "outputs": [
    {
     "name": "stdout",
     "output_type": "stream",
     "text": [
      "[True, False, True, False, True]\n"
     ]
    }
   ],
   "source": [
    "def fun(l):\n",
    "    if l[1] > 85:\n",
    "        return True\n",
    "    else:\n",
    "        return False\n",
    "    \n",
    "    \n",
    "grade =  [('English', 90), ('Science', 80), ('Maths', 97), ('Social sciences', 82),('Vocational', 90)]\n",
    "out = list(map(fun, grade))\n",
    "print(out)"
   ]
  },
  {
   "cell_type": "markdown",
   "metadata": {},
   "source": [
    "**10. Write a Python program to add two given lists using map and lambda.**\n",
    "\n",
    "**sample Value: nums1 = [1, 2, 3]   nums2 = [4, 5, 6]**\n",
    "\n",
    "**Sample Output: [5, 7, 9]**\n",
    "\n"
   ]
  },
  {
   "cell_type": "code",
   "execution_count": 22,
   "metadata": {},
   "outputs": [
    {
     "name": "stdout",
     "output_type": "stream",
     "text": [
      "Original list:\n",
      "[1, 2, 3]\n",
      "[4, 5, 6]\n",
      "\n",
      "Result: after adding two list\n",
      "[5, 7, 9]\n"
     ]
    }
   ],
   "source": [
    "fun = lambda a,b : a+b\n",
    "nums1 = [1, 2, 3]\n",
    "nums2 = [4, 5, 6]\n",
    "\n",
    "out = list(map(fun, nums1, nums2))\n",
    "\n",
    "print(\"Original list:\")\n",
    "print(nums1)\n",
    "print(nums2)\n",
    "print()\n",
    "print(\"Result: after adding two list\")\n",
    "print(out)"
   ]
  }
 ],
 "metadata": {
  "kernelspec": {
   "display_name": "Python 3",
   "language": "python",
   "name": "python3"
  },
  "language_info": {
   "codemirror_mode": {
    "name": "ipython",
    "version": 3
   },
   "file_extension": ".py",
   "mimetype": "text/x-python",
   "name": "python",
   "nbconvert_exporter": "python",
   "pygments_lexer": "ipython3",
   "version": "3.8.8"
  }
 },
 "nbformat": 4,
 "nbformat_minor": 2
}
